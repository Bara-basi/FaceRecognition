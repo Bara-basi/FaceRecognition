{
 "cells": [
  {
   "cell_type": "code",
   "execution_count": 1,
   "metadata": {},
   "outputs": [],
   "source": [
    "import numpy as np\n",
    "import pandas as pd\n",
    "import matplotlib.pyplot as plt"
   ]
  },
  {
   "cell_type": "markdown",
   "metadata": {},
   "source": [
    "<h1>\n",
    "Numpy\n",
    "</h1>\n",
    "Numpy是支持大量的维度数组和矩阵运算，也包含大量数据科学的函数库\n",
    "Numpy的核心是ndarray对象"
   ]
  },
  {
   "cell_type": "code",
   "execution_count": 26,
   "metadata": {},
   "outputs": [
    {
     "name": "stdout",
     "output_type": "stream",
     "text": [
      "[ 1.          1.47368421  1.94736842  2.42105263  2.89473684  3.36842105\n",
      "  3.84210526  4.31578947  4.78947368  5.26315789  5.73684211  6.21052632\n",
      "  6.68421053  7.15789474  7.63157895  8.10526316  8.57894737  9.05263158\n",
      "  9.52631579 10.        ]\n"
     ]
    }
   ],
   "source": [
    "# 新建数组\n",
    "data = np.array([1, 2, 3, 4, 5])\n",
    "\n",
    "# 创建一个二维数组\n",
    "data2 = np.array([[1, 2, 3], [4, 5, 6]])\n",
    "\n",
    "# 创建全0数组\n",
    "zeros = np.zeros(5)\n",
    "zeros = np.zeros((5,3))\n",
    "\n",
    "# 创建全1数组\n",
    "ones = np.ones(5)\n",
    "ones = np.ones((5,3))\n",
    "\n",
    "# 创建连续序列数组\n",
    "seq = np.arange(1,10,2) # 从1开始，步长为2，到10结束\n",
    "\n",
    "# 创建连续有间隔的数组\n",
    "seq2 = np.linspace(1,10,20)\n",
    "print(seq2)\n",
    "\n",
    "# 改变数组\n",
    "seq2 = seq2.reshape((5,4))"
   ]
  },
  {
   "cell_type": "code",
   "execution_count": 29,
   "metadata": {},
   "outputs": [
    {
     "data": {
      "text/plain": [
       "dtype('int32')"
      ]
     },
     "execution_count": 29,
     "metadata": {},
     "output_type": "execute_result"
    }
   ],
   "source": [
    "# 数组的转置\n",
    "seq2.T\n",
    "# 数组形状\n",
    "seq2.shape\n",
    "# 数组元素个数\n",
    "seq2.size\n",
    "# 数组元素类型\n",
    "data.dtype"
   ]
  },
  {
   "cell_type": "code",
   "execution_count": 64,
   "metadata": {},
   "outputs": [
    {
     "name": "stdout",
     "output_type": "stream",
     "text": [
      "2.0\n",
      "2.0\n",
      "0.816496580927726\n",
      "0.6666666666666666\n",
      "1\n",
      "3\n",
      "6\n"
     ]
    }
   ],
   "source": [
    "# 数组的运算\n",
    "array1 = np.array([1, 2, 3])\n",
    "array2 = np.array([4, 5, 6])\n",
    "\n",
    "# print(array1+array2)\n",
    "# print(array1-array2)\n",
    "\n",
    "# 数组中的数学元素\n",
    "print(np.mean(array1))\n",
    "print(np.median(array1))\n",
    "print(np.std(array1))\n",
    "print(np.var(array1))\n",
    "print(np.min(array1))\n",
    "print(np.max(array1))\n",
    "print(np.sum(array1))"
   ]
  },
  {
   "cell_type": "markdown",
   "metadata": {},
   "source": [
    "# Pandas \n",
    "Pandas的主要数据结构是series(一维)和dataframe(二维)。"
   ]
  },
  {
   "cell_type": "code",
   "execution_count": 63,
   "metadata": {},
   "outputs": [
    {
     "name": "stdout",
     "output_type": "stream",
     "text": [
      "斗破苍穹\n",
      "萧炎\n",
      "1    斗破苍穹\n",
      "2     不良人\n",
      "3      仙逆\n",
      "4      斩神\n",
      "Name: 国漫, dtype: object\n"
     ]
    },
    {
     "data": {
      "text/plain": [
       "仙逆     王林\n",
       "斩神    林七夜\n",
       "Name: 男主, dtype: object"
      ]
     },
     "execution_count": 63,
     "metadata": {},
     "output_type": "execute_result"
    }
   ],
   "source": [
    "# 创建对象\n",
    "list1 = pd.Series(data = [\"斗罗大陆\",\"斗破苍穹\",\"不良人\",\"仙逆\",\"斩神\"],name=\"国漫\")\n",
    "list2 = pd.Series(data = [\"唐三\",\"萧炎\",\"李星云\",\"王麻子\",\"林七夜\"],index=[\"斗罗大陆\",\"斗破苍穹\",\"不良人\",\"仙逆\",\"斩神\"],name=\"男主\")\n",
    "print(list1[1])\n",
    "print(list2[\"斗破苍穹\"])\n",
    "print(list1[1:5])\n",
    "list2[\"仙逆\"] = \"王林\"\n",
    "list1.axes\n",
    "list2.values # 值\n",
    "list2.ndim # 维度\n",
    "list2.size # 元素个数\n",
    "list2.dtype # 数据类型\n",
    "list2.head() # 前5行\n",
    "list2.tail(2) # 最后5行"
   ]
  },
  {
   "cell_type": "code",
   "execution_count": null,
   "metadata": {},
   "outputs": [],
   "source": []
  }
 ],
 "metadata": {
  "kernelspec": {
   "display_name": "transformers",
   "language": "python",
   "name": "python3"
  },
  "language_info": {
   "codemirror_mode": {
    "name": "ipython",
    "version": 3
   },
   "file_extension": ".py",
   "mimetype": "text/x-python",
   "name": "python",
   "nbconvert_exporter": "python",
   "pygments_lexer": "ipython3",
   "version": "3.12.4"
  }
 },
 "nbformat": 4,
 "nbformat_minor": 2
}
