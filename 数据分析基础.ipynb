{
 "cells": [
  {
   "cell_type": "code",
   "execution_count": 121,
   "metadata": {},
   "outputs": [],
   "source": [
    "import numpy as np\n",
    "import pandas as pd\n",
    "import matplotlib.pyplot as plt"
   ]
  },
  {
   "cell_type": "markdown",
   "metadata": {},
   "source": [
    "<h1>\n",
    "Numpy\n",
    "</h1>\n",
    "Numpy是支持大量的维度数组和矩阵运算，也包含大量数据科学的函数库\n",
    "Numpy的核心是ndarray对象"
   ]
  },
  {
   "cell_type": "code",
   "execution_count": 122,
   "metadata": {},
   "outputs": [
    {
     "name": "stdout",
     "output_type": "stream",
     "text": [
      "[ 1.          1.47368421  1.94736842  2.42105263  2.89473684  3.36842105\n",
      "  3.84210526  4.31578947  4.78947368  5.26315789  5.73684211  6.21052632\n",
      "  6.68421053  7.15789474  7.63157895  8.10526316  8.57894737  9.05263158\n",
      "  9.52631579 10.        ]\n"
     ]
    }
   ],
   "source": [
    "# 新建数组\n",
    "data = np.array([1, 2, 3, 4, 5])\n",
    "\n",
    "# 创建一个二维数组\n",
    "data2 = np.array([[1, 2, 3], [4, 5, 6]])\n",
    "\n",
    "# 创建全0数组\n",
    "zeros = np.zeros(5)\n",
    "zeros = np.zeros((5,3))\n",
    "\n",
    "# 创建全1数组\n",
    "ones = np.ones(5)\n",
    "ones = np.ones((5,3))\n",
    "\n",
    "# 创建连续序列数组\n",
    "seq = np.arange(1,10,2) # 从1开始，步长为2，到10结束\n",
    "\n",
    "# 创建连续有间隔的数组\n",
    "seq2 = np.linspace(1,10,20)\n",
    "print(seq2)\n",
    "\n",
    "# 改变数组\n",
    "seq2 = seq2.reshape((5,4))"
   ]
  },
  {
   "cell_type": "code",
   "execution_count": 123,
   "metadata": {},
   "outputs": [
    {
     "data": {
      "text/plain": [
       "dtype('int32')"
      ]
     },
     "execution_count": 123,
     "metadata": {},
     "output_type": "execute_result"
    }
   ],
   "source": [
    "# 数组的转置\n",
    "seq2.T\n",
    "# 数组形状\n",
    "seq2.shape\n",
    "# 数组元素个数\n",
    "seq2.size\n",
    "# 数组元素类型\n",
    "data.dtype"
   ]
  },
  {
   "cell_type": "code",
   "execution_count": 124,
   "metadata": {},
   "outputs": [
    {
     "name": "stdout",
     "output_type": "stream",
     "text": [
      "2.0\n",
      "2.0\n",
      "0.816496580927726\n",
      "0.6666666666666666\n",
      "1\n",
      "3\n",
      "6\n"
     ]
    }
   ],
   "source": [
    "# 数组的运算\n",
    "array1 = np.array([1, 2, 3])\n",
    "array2 = np.array([4, 5, 6])\n",
    "\n",
    "# print(array1+array2)\n",
    "# print(array1-array2)\n",
    "\n",
    "# 数组中的数学元素\n",
    "print(np.mean(array1))\n",
    "print(np.median(array1))\n",
    "print(np.std(array1))\n",
    "print(np.var(array1))\n",
    "print(np.min(array1))\n",
    "print(np.max(array1))\n",
    "print(np.sum(array1))"
   ]
  },
  {
   "cell_type": "markdown",
   "metadata": {},
   "source": [
    "# Pandas \n",
    "Pandas的主要数据结构是series(一维)和dataframe(二维)。"
   ]
  },
  {
   "cell_type": "code",
   "execution_count": 125,
   "metadata": {},
   "outputs": [
    {
     "name": "stdout",
     "output_type": "stream",
     "text": [
      "斗破苍穹\n",
      "萧炎\n",
      "1    斗破苍穹\n",
      "2     不良人\n",
      "3      仙逆\n",
      "4      斩神\n",
      "Name: 国漫, dtype: object\n"
     ]
    },
    {
     "data": {
      "text/plain": [
       "仙逆     王林\n",
       "斩神    林七夜\n",
       "Name: 男主, dtype: object"
      ]
     },
     "execution_count": 125,
     "metadata": {},
     "output_type": "execute_result"
    }
   ],
   "source": [
    "# 创建对象\n",
    "list1 = pd.Series(data = [\"斗罗大陆\",\"斗破苍穹\",\"不良人\",\"仙逆\",\"斩神\"],name=\"国漫\")\n",
    "list2 = pd.Series(data = [\"唐三\",\"萧炎\",\"李星云\",\"王麻子\",\"林七夜\"],index=[\"斗罗大陆\",\"斗破苍穹\",\"不良人\",\"仙逆\",\"斩神\"],name=\"男主\")\n",
    "print(list1[1])\n",
    "print(list2[\"斗破苍穹\"])\n",
    "print(list1[1:5])\n",
    "list2[\"仙逆\"] = \"王林\"\n",
    "list1.axes\n",
    "list2.values # 值\n",
    "list2.ndim # 维度\n",
    "list2.size # 元素个数\n",
    "list2.dtype # 数据类型\n",
    "list2.head() # 前5行\n",
    "list2.tail(2) # 最后5行"
   ]
  },
  {
   "cell_type": "code",
   "execution_count": 126,
   "metadata": {},
   "outputs": [
    {
     "data": {
      "text/html": [
       "<div>\n",
       "<style scoped>\n",
       "    .dataframe tbody tr th:only-of-type {\n",
       "        vertical-align: middle;\n",
       "    }\n",
       "\n",
       "    .dataframe tbody tr th {\n",
       "        vertical-align: top;\n",
       "    }\n",
       "\n",
       "    .dataframe thead th {\n",
       "        text-align: right;\n",
       "    }\n",
       "</style>\n",
       "<table border=\"1\" class=\"dataframe\">\n",
       "  <thead>\n",
       "    <tr style=\"text-align: right;\">\n",
       "      <th></th>\n",
       "      <th>动漫名称</th>\n",
       "      <th>男主角</th>\n",
       "      <th>年龄</th>\n",
       "      <th>战力值</th>\n",
       "    </tr>\n",
       "  </thead>\n",
       "  <tbody>\n",
       "    <tr>\n",
       "      <th>0</th>\n",
       "      <td>斗破苍穹</td>\n",
       "      <td>萧炎</td>\n",
       "      <td>24</td>\n",
       "      <td>500.0</td>\n",
       "    </tr>\n",
       "    <tr>\n",
       "      <th>1</th>\n",
       "      <td>不良人</td>\n",
       "      <td>李星云</td>\n",
       "      <td>20</td>\n",
       "      <td>100.0</td>\n",
       "    </tr>\n",
       "    <tr>\n",
       "      <th>2</th>\n",
       "      <td>仙逆</td>\n",
       "      <td>王林</td>\n",
       "      <td>400</td>\n",
       "      <td>1000.0</td>\n",
       "    </tr>\n",
       "  </tbody>\n",
       "</table>\n",
       "</div>"
      ],
      "text/plain": [
       "   动漫名称  男主角   年龄     战力值\n",
       "0  斗破苍穹   萧炎   24   500.0\n",
       "1   不良人  李星云   20   100.0\n",
       "2    仙逆   王林  400  1000.0"
      ]
     },
     "execution_count": 126,
     "metadata": {},
     "output_type": "execute_result"
    }
   ],
   "source": [
    "# 创建表格对象\n",
    "data = {\n",
    "    \"动漫名称\":[\"斗破苍穹\",\"不良人\",\"仙逆\"],\n",
    "    \"男主角\":[\"萧炎\",\"李星云\",\"王林\"],\n",
    "    \"年龄\":[24,20,400],\n",
    "    \"战力值\":[500.00,100.0,1000.0]\n",
    "}\n",
    "df = pd.DataFrame(data=data)\n",
    "df"
   ]
  },
  {
   "cell_type": "code",
   "execution_count": 127,
   "metadata": {},
   "outputs": [
    {
     "name": "stdout",
     "output_type": "stream",
     "text": [
      "<class 'pandas.core.frame.DataFrame'>\n",
      "RangeIndex: 3 entries, 0 to 2\n",
      "Data columns (total 4 columns):\n",
      " #   Column  Non-Null Count  Dtype  \n",
      "---  ------  --------------  -----  \n",
      " 0   动漫名称    3 non-null      object \n",
      " 1   男主角     3 non-null      object \n",
      " 2   年龄      3 non-null      int64  \n",
      " 3   战力值     3 non-null      float64\n",
      "dtypes: float64(1), int64(1), object(2)\n",
      "memory usage: 228.0+ bytes\n"
     ]
    }
   ],
   "source": [
    "# 查看数据基本信息\n",
    "df.info()"
   ]
  },
  {
   "cell_type": "code",
   "execution_count": 128,
   "metadata": {},
   "outputs": [
    {
     "data": {
      "text/html": [
       "<div>\n",
       "<style scoped>\n",
       "    .dataframe tbody tr th:only-of-type {\n",
       "        vertical-align: middle;\n",
       "    }\n",
       "\n",
       "    .dataframe tbody tr th {\n",
       "        vertical-align: top;\n",
       "    }\n",
       "\n",
       "    .dataframe thead th {\n",
       "        text-align: right;\n",
       "    }\n",
       "</style>\n",
       "<table border=\"1\" class=\"dataframe\">\n",
       "  <thead>\n",
       "    <tr style=\"text-align: right;\">\n",
       "      <th></th>\n",
       "      <th>年龄</th>\n",
       "      <th>战力值</th>\n",
       "    </tr>\n",
       "  </thead>\n",
       "  <tbody>\n",
       "    <tr>\n",
       "      <th>count</th>\n",
       "      <td>3.000000</td>\n",
       "      <td>3.000000</td>\n",
       "    </tr>\n",
       "    <tr>\n",
       "      <th>mean</th>\n",
       "      <td>148.000000</td>\n",
       "      <td>533.333333</td>\n",
       "    </tr>\n",
       "    <tr>\n",
       "      <th>std</th>\n",
       "      <td>218.247566</td>\n",
       "      <td>450.924975</td>\n",
       "    </tr>\n",
       "    <tr>\n",
       "      <th>min</th>\n",
       "      <td>20.000000</td>\n",
       "      <td>100.000000</td>\n",
       "    </tr>\n",
       "    <tr>\n",
       "      <th>25%</th>\n",
       "      <td>22.000000</td>\n",
       "      <td>300.000000</td>\n",
       "    </tr>\n",
       "    <tr>\n",
       "      <th>50%</th>\n",
       "      <td>24.000000</td>\n",
       "      <td>500.000000</td>\n",
       "    </tr>\n",
       "    <tr>\n",
       "      <th>75%</th>\n",
       "      <td>212.000000</td>\n",
       "      <td>750.000000</td>\n",
       "    </tr>\n",
       "    <tr>\n",
       "      <th>max</th>\n",
       "      <td>400.000000</td>\n",
       "      <td>1000.000000</td>\n",
       "    </tr>\n",
       "  </tbody>\n",
       "</table>\n",
       "</div>"
      ],
      "text/plain": [
       "               年龄          战力值\n",
       "count    3.000000     3.000000\n",
       "mean   148.000000   533.333333\n",
       "std    218.247566   450.924975\n",
       "min     20.000000   100.000000\n",
       "25%     22.000000   300.000000\n",
       "50%     24.000000   500.000000\n",
       "75%    212.000000   750.000000\n",
       "max    400.000000  1000.000000"
      ]
     },
     "execution_count": 128,
     "metadata": {},
     "output_type": "execute_result"
    }
   ],
   "source": [
    "# 统计信息\n",
    "df.describe()"
   ]
  },
  {
   "cell_type": "code",
   "execution_count": 129,
   "metadata": {},
   "outputs": [
    {
     "data": {
      "text/plain": [
       "Index(['动漫名称', '男主角', '年龄', '战力值'], dtype='object')"
      ]
     },
     "execution_count": 129,
     "metadata": {},
     "output_type": "execute_result"
    }
   ],
   "source": [
    "df.columns"
   ]
  },
  {
   "cell_type": "code",
   "execution_count": 130,
   "metadata": {},
   "outputs": [
    {
     "data": {
      "text/plain": [
       "RangeIndex(start=0, stop=3, step=1)"
      ]
     },
     "execution_count": 130,
     "metadata": {},
     "output_type": "execute_result"
    }
   ],
   "source": [
    "# 查看\n",
    "df.index"
   ]
  },
  {
   "cell_type": "code",
   "execution_count": 131,
   "metadata": {},
   "outputs": [
    {
     "data": {
      "text/html": [
       "<div>\n",
       "<style scoped>\n",
       "    .dataframe tbody tr th:only-of-type {\n",
       "        vertical-align: middle;\n",
       "    }\n",
       "\n",
       "    .dataframe tbody tr th {\n",
       "        vertical-align: top;\n",
       "    }\n",
       "\n",
       "    .dataframe thead th {\n",
       "        text-align: right;\n",
       "    }\n",
       "</style>\n",
       "<table border=\"1\" class=\"dataframe\">\n",
       "  <thead>\n",
       "    <tr style=\"text-align: right;\">\n",
       "      <th></th>\n",
       "      <th>动漫名称</th>\n",
       "      <th>男主角</th>\n",
       "      <th>年龄</th>\n",
       "      <th>战力值</th>\n",
       "    </tr>\n",
       "  </thead>\n",
       "  <tbody>\n",
       "    <tr>\n",
       "      <th>0</th>\n",
       "      <td>斗破苍穹</td>\n",
       "      <td>萧炎</td>\n",
       "      <td>24</td>\n",
       "      <td>500.0</td>\n",
       "    </tr>\n",
       "    <tr>\n",
       "      <th>1</th>\n",
       "      <td>不良人</td>\n",
       "      <td>李星云</td>\n",
       "      <td>20</td>\n",
       "      <td>100.0</td>\n",
       "    </tr>\n",
       "    <tr>\n",
       "      <th>2</th>\n",
       "      <td>仙逆</td>\n",
       "      <td>王林</td>\n",
       "      <td>400</td>\n",
       "      <td>1000.0</td>\n",
       "    </tr>\n",
       "  </tbody>\n",
       "</table>\n",
       "</div>"
      ],
      "text/plain": [
       "   动漫名称  男主角   年龄     战力值\n",
       "0  斗破苍穹   萧炎   24   500.0\n",
       "1   不良人  李星云   20   100.0\n",
       "2    仙逆   王林  400  1000.0"
      ]
     },
     "execution_count": 131,
     "metadata": {},
     "output_type": "execute_result"
    }
   ],
   "source": [
    "# 常看前n条\n",
    "df.head()"
   ]
  },
  {
   "cell_type": "code",
   "execution_count": 132,
   "metadata": {},
   "outputs": [
    {
     "data": {
      "text/plain": [
       "array([['斗破苍穹', '萧炎', 24, 500.0],\n",
       "       ['不良人', '李星云', 20, 100.0],\n",
       "       ['仙逆', '王林', 400, 1000.0]], dtype=object)"
      ]
     },
     "execution_count": 132,
     "metadata": {},
     "output_type": "execute_result"
    }
   ],
   "source": [
    "df.values"
   ]
  },
  {
   "cell_type": "code",
   "execution_count": 133,
   "metadata": {},
   "outputs": [
    {
     "data": {
      "text/html": [
       "<div>\n",
       "<style scoped>\n",
       "    .dataframe tbody tr th:only-of-type {\n",
       "        vertical-align: middle;\n",
       "    }\n",
       "\n",
       "    .dataframe tbody tr th {\n",
       "        vertical-align: top;\n",
       "    }\n",
       "\n",
       "    .dataframe thead th {\n",
       "        text-align: right;\n",
       "    }\n",
       "</style>\n",
       "<table border=\"1\" class=\"dataframe\">\n",
       "  <thead>\n",
       "    <tr style=\"text-align: right;\">\n",
       "      <th></th>\n",
       "      <th>男主角</th>\n",
       "      <th>动漫名称</th>\n",
       "    </tr>\n",
       "  </thead>\n",
       "  <tbody>\n",
       "    <tr>\n",
       "      <th>0</th>\n",
       "      <td>萧炎</td>\n",
       "      <td>斗破苍穹</td>\n",
       "    </tr>\n",
       "    <tr>\n",
       "      <th>1</th>\n",
       "      <td>李星云</td>\n",
       "      <td>不良人</td>\n",
       "    </tr>\n",
       "    <tr>\n",
       "      <th>2</th>\n",
       "      <td>王林</td>\n",
       "      <td>仙逆</td>\n",
       "    </tr>\n",
       "  </tbody>\n",
       "</table>\n",
       "</div>"
      ],
      "text/plain": [
       "   男主角  动漫名称\n",
       "0   萧炎  斗破苍穹\n",
       "1  李星云   不良人\n",
       "2   王林    仙逆"
      ]
     },
     "execution_count": 133,
     "metadata": {},
     "output_type": "execute_result"
    }
   ],
   "source": [
    "# 提取列的数据\n",
    "df[[\"男主角\",\"动漫名称\"]]"
   ]
  },
  {
   "cell_type": "code",
   "execution_count": 134,
   "metadata": {},
   "outputs": [
    {
     "data": {
      "text/plain": [
       "动漫名称    不良人\n",
       "男主角     李星云\n",
       "年龄       20\n",
       "Name: 1, dtype: object"
      ]
     },
     "execution_count": 134,
     "metadata": {},
     "output_type": "execute_result"
    }
   ],
   "source": [
    "# 显式索引 通过列名、行索引\n",
    "df.loc[1,\"动漫名称\"]\n",
    "df.loc[1,\"动漫名称\":\"年龄\"]"
   ]
  },
  {
   "cell_type": "code",
   "execution_count": 135,
   "metadata": {},
   "outputs": [
    {
     "data": {
      "text/plain": [
       "男主角     王林\n",
       "年龄     400\n",
       "Name: 2, dtype: object"
      ]
     },
     "execution_count": 135,
     "metadata": {},
     "output_type": "execute_result"
    }
   ],
   "source": [
    "# 隐式索引\n",
    "df.iloc[0]\n",
    "df.iloc[2,1:3] "
   ]
  },
  {
   "cell_type": "code",
   "execution_count": 136,
   "metadata": {},
   "outputs": [
    {
     "data": {
      "text/html": [
       "<div>\n",
       "<style scoped>\n",
       "    .dataframe tbody tr th:only-of-type {\n",
       "        vertical-align: middle;\n",
       "    }\n",
       "\n",
       "    .dataframe tbody tr th {\n",
       "        vertical-align: top;\n",
       "    }\n",
       "\n",
       "    .dataframe thead th {\n",
       "        text-align: right;\n",
       "    }\n",
       "</style>\n",
       "<table border=\"1\" class=\"dataframe\">\n",
       "  <thead>\n",
       "    <tr style=\"text-align: right;\">\n",
       "      <th></th>\n",
       "      <th>动漫名称</th>\n",
       "      <th>男主角</th>\n",
       "      <th>年龄</th>\n",
       "      <th>战力值</th>\n",
       "    </tr>\n",
       "  </thead>\n",
       "  <tbody>\n",
       "    <tr>\n",
       "      <th>0</th>\n",
       "      <td>斗破苍穹</td>\n",
       "      <td>萧炎</td>\n",
       "      <td>24</td>\n",
       "      <td>500.0</td>\n",
       "    </tr>\n",
       "    <tr>\n",
       "      <th>1</th>\n",
       "      <td>不良人</td>\n",
       "      <td>李星云</td>\n",
       "      <td>20</td>\n",
       "      <td>100.0</td>\n",
       "    </tr>\n",
       "    <tr>\n",
       "      <th>2</th>\n",
       "      <td>仙逆</td>\n",
       "      <td>王林</td>\n",
       "      <td>400</td>\n",
       "      <td>1000.0</td>\n",
       "    </tr>\n",
       "    <tr>\n",
       "      <th>3</th>\n",
       "      <td>斩神</td>\n",
       "      <td>林七夜</td>\n",
       "      <td>20</td>\n",
       "      <td>300.0</td>\n",
       "    </tr>\n",
       "  </tbody>\n",
       "</table>\n",
       "</div>"
      ],
      "text/plain": [
       "   动漫名称  男主角   年龄     战力值\n",
       "0  斗破苍穹   萧炎   24   500.0\n",
       "1   不良人  李星云   20   100.0\n",
       "2    仙逆   王林  400  1000.0\n",
       "3    斩神  林七夜   20   300.0"
      ]
     },
     "execution_count": 136,
     "metadata": {},
     "output_type": "execute_result"
    }
   ],
   "source": [
    "#  新增行\n",
    "df.loc[len(df)] = [\"斩神\",\"林七夜\",20,300]\n",
    "df"
   ]
  },
  {
   "cell_type": "code",
   "execution_count": 137,
   "metadata": {},
   "outputs": [
    {
     "data": {
      "text/html": [
       "<div>\n",
       "<style scoped>\n",
       "    .dataframe tbody tr th:only-of-type {\n",
       "        vertical-align: middle;\n",
       "    }\n",
       "\n",
       "    .dataframe tbody tr th {\n",
       "        vertical-align: top;\n",
       "    }\n",
       "\n",
       "    .dataframe thead th {\n",
       "        text-align: right;\n",
       "    }\n",
       "</style>\n",
       "<table border=\"1\" class=\"dataframe\">\n",
       "  <thead>\n",
       "    <tr style=\"text-align: right;\">\n",
       "      <th></th>\n",
       "      <th>动漫名称</th>\n",
       "      <th>男主角</th>\n",
       "      <th>年龄</th>\n",
       "      <th>战力值</th>\n",
       "      <th>性别</th>\n",
       "    </tr>\n",
       "  </thead>\n",
       "  <tbody>\n",
       "    <tr>\n",
       "      <th>0</th>\n",
       "      <td>斗破苍穹</td>\n",
       "      <td>萧炎</td>\n",
       "      <td>24</td>\n",
       "      <td>500.0</td>\n",
       "      <td>男</td>\n",
       "    </tr>\n",
       "    <tr>\n",
       "      <th>1</th>\n",
       "      <td>不良人</td>\n",
       "      <td>李星云</td>\n",
       "      <td>20</td>\n",
       "      <td>100.0</td>\n",
       "      <td>男</td>\n",
       "    </tr>\n",
       "    <tr>\n",
       "      <th>2</th>\n",
       "      <td>仙逆</td>\n",
       "      <td>王林</td>\n",
       "      <td>400</td>\n",
       "      <td>1000.0</td>\n",
       "      <td>男</td>\n",
       "    </tr>\n",
       "    <tr>\n",
       "      <th>3</th>\n",
       "      <td>斩神</td>\n",
       "      <td>林七夜</td>\n",
       "      <td>20</td>\n",
       "      <td>300.0</td>\n",
       "      <td>男</td>\n",
       "    </tr>\n",
       "  </tbody>\n",
       "</table>\n",
       "</div>"
      ],
      "text/plain": [
       "   动漫名称  男主角   年龄     战力值 性别\n",
       "0  斗破苍穹   萧炎   24   500.0  男\n",
       "1   不良人  李星云   20   100.0  男\n",
       "2    仙逆   王林  400  1000.0  男\n",
       "3    斩神  林七夜   20   300.0  男"
      ]
     },
     "execution_count": 137,
     "metadata": {},
     "output_type": "execute_result"
    }
   ],
   "source": [
    "df[\"性别\"] = pd.Series([\"男\",\"男\",\"男\",\"男\"])\n",
    "df"
   ]
  },
  {
   "cell_type": "code",
   "execution_count": 138,
   "metadata": {},
   "outputs": [
    {
     "data": {
      "text/html": [
       "<div>\n",
       "<style scoped>\n",
       "    .dataframe tbody tr th:only-of-type {\n",
       "        vertical-align: middle;\n",
       "    }\n",
       "\n",
       "    .dataframe tbody tr th {\n",
       "        vertical-align: top;\n",
       "    }\n",
       "\n",
       "    .dataframe thead th {\n",
       "        text-align: right;\n",
       "    }\n",
       "</style>\n",
       "<table border=\"1\" class=\"dataframe\">\n",
       "  <thead>\n",
       "    <tr style=\"text-align: right;\">\n",
       "      <th></th>\n",
       "      <th>动漫名称</th>\n",
       "      <th>男主角</th>\n",
       "      <th>女主角</th>\n",
       "      <th>年龄</th>\n",
       "      <th>战力值</th>\n",
       "      <th>性别</th>\n",
       "    </tr>\n",
       "  </thead>\n",
       "  <tbody>\n",
       "    <tr>\n",
       "      <th>0</th>\n",
       "      <td>斗破苍穹</td>\n",
       "      <td>萧炎</td>\n",
       "      <td>薰儿</td>\n",
       "      <td>24</td>\n",
       "      <td>500.0</td>\n",
       "      <td>男</td>\n",
       "    </tr>\n",
       "    <tr>\n",
       "      <th>1</th>\n",
       "      <td>不良人</td>\n",
       "      <td>李星云</td>\n",
       "      <td>姬如雪</td>\n",
       "      <td>20</td>\n",
       "      <td>100.0</td>\n",
       "      <td>男</td>\n",
       "    </tr>\n",
       "    <tr>\n",
       "      <th>2</th>\n",
       "      <td>仙逆</td>\n",
       "      <td>王林</td>\n",
       "      <td>走,带你去杀人</td>\n",
       "      <td>400</td>\n",
       "      <td>1000.0</td>\n",
       "      <td>男</td>\n",
       "    </tr>\n",
       "    <tr>\n",
       "      <th>3</th>\n",
       "      <td>斩神</td>\n",
       "      <td>林七夜</td>\n",
       "      <td></td>\n",
       "      <td>20</td>\n",
       "      <td>300.0</td>\n",
       "      <td>男</td>\n",
       "    </tr>\n",
       "  </tbody>\n",
       "</table>\n",
       "</div>"
      ],
      "text/plain": [
       "   动漫名称  男主角      女主角   年龄     战力值 性别\n",
       "0  斗破苍穹   萧炎       薰儿   24   500.0  男\n",
       "1   不良人  李星云      姬如雪   20   100.0  男\n",
       "2    仙逆   王林  走,带你去杀人  400  1000.0  男\n",
       "3    斩神  林七夜            20   300.0  男"
      ]
     },
     "execution_count": 138,
     "metadata": {},
     "output_type": "execute_result"
    }
   ],
   "source": [
    "# 新增列的另一种方式\n",
    "df.insert(2, column=\"女主角\", value=[\"薰儿\",\"姬如雪\",\"走,带你去杀人\",\"\"])\n",
    "df"
   ]
  },
  {
   "cell_type": "code",
   "execution_count": 139,
   "metadata": {},
   "outputs": [
    {
     "data": {
      "text/html": [
       "<div>\n",
       "<style scoped>\n",
       "    .dataframe tbody tr th:only-of-type {\n",
       "        vertical-align: middle;\n",
       "    }\n",
       "\n",
       "    .dataframe tbody tr th {\n",
       "        vertical-align: top;\n",
       "    }\n",
       "\n",
       "    .dataframe thead th {\n",
       "        text-align: right;\n",
       "    }\n",
       "</style>\n",
       "<table border=\"1\" class=\"dataframe\">\n",
       "  <thead>\n",
       "    <tr style=\"text-align: right;\">\n",
       "      <th></th>\n",
       "      <th>动漫名称</th>\n",
       "      <th>男主角</th>\n",
       "      <th>女主角</th>\n",
       "      <th>年龄</th>\n",
       "      <th>性别</th>\n",
       "    </tr>\n",
       "  </thead>\n",
       "  <tbody>\n",
       "    <tr>\n",
       "      <th>0</th>\n",
       "      <td>斗破苍穹</td>\n",
       "      <td>萧炎</td>\n",
       "      <td>薰儿</td>\n",
       "      <td>24</td>\n",
       "      <td>男</td>\n",
       "    </tr>\n",
       "    <tr>\n",
       "      <th>1</th>\n",
       "      <td>不良人</td>\n",
       "      <td>李星云</td>\n",
       "      <td>姬如雪</td>\n",
       "      <td>20</td>\n",
       "      <td>男</td>\n",
       "    </tr>\n",
       "    <tr>\n",
       "      <th>2</th>\n",
       "      <td>仙逆</td>\n",
       "      <td>王林</td>\n",
       "      <td>走,带你去杀人</td>\n",
       "      <td>400</td>\n",
       "      <td>男</td>\n",
       "    </tr>\n",
       "    <tr>\n",
       "      <th>3</th>\n",
       "      <td>斩神</td>\n",
       "      <td>林七夜</td>\n",
       "      <td></td>\n",
       "      <td>20</td>\n",
       "      <td>男</td>\n",
       "    </tr>\n",
       "  </tbody>\n",
       "</table>\n",
       "</div>"
      ],
      "text/plain": [
       "   动漫名称  男主角      女主角   年龄 性别\n",
       "0  斗破苍穹   萧炎       薰儿   24  男\n",
       "1   不良人  李星云      姬如雪   20  男\n",
       "2    仙逆   王林  走,带你去杀人  400  男\n",
       "3    斩神  林七夜            20  男"
      ]
     },
     "execution_count": 139,
     "metadata": {},
     "output_type": "execute_result"
    }
   ],
   "source": [
    "# 删除列\n",
    "df = df.drop(columns=\"战力值\")\n",
    "df"
   ]
  },
  {
   "cell_type": "code",
   "execution_count": 140,
   "metadata": {},
   "outputs": [
    {
     "data": {
      "text/html": [
       "<div>\n",
       "<style scoped>\n",
       "    .dataframe tbody tr th:only-of-type {\n",
       "        vertical-align: middle;\n",
       "    }\n",
       "\n",
       "    .dataframe tbody tr th {\n",
       "        vertical-align: top;\n",
       "    }\n",
       "\n",
       "    .dataframe thead th {\n",
       "        text-align: right;\n",
       "    }\n",
       "</style>\n",
       "<table border=\"1\" class=\"dataframe\">\n",
       "  <thead>\n",
       "    <tr style=\"text-align: right;\">\n",
       "      <th></th>\n",
       "      <th>动漫名称</th>\n",
       "      <th>男主角</th>\n",
       "      <th>女主角</th>\n",
       "      <th>年龄</th>\n",
       "      <th>性别</th>\n",
       "    </tr>\n",
       "  </thead>\n",
       "  <tbody>\n",
       "    <tr>\n",
       "      <th>0</th>\n",
       "      <td>斗破苍穹</td>\n",
       "      <td>萧炎</td>\n",
       "      <td>薰儿</td>\n",
       "      <td>24</td>\n",
       "      <td>男</td>\n",
       "    </tr>\n",
       "    <tr>\n",
       "      <th>1</th>\n",
       "      <td>不良人</td>\n",
       "      <td>李星云</td>\n",
       "      <td>姬如雪</td>\n",
       "      <td>20</td>\n",
       "      <td>男</td>\n",
       "    </tr>\n",
       "    <tr>\n",
       "      <th>2</th>\n",
       "      <td>仙逆</td>\n",
       "      <td>王林</td>\n",
       "      <td>走,带你去杀人</td>\n",
       "      <td>400</td>\n",
       "      <td>男</td>\n",
       "    </tr>\n",
       "  </tbody>\n",
       "</table>\n",
       "</div>"
      ],
      "text/plain": [
       "   动漫名称  男主角      女主角   年龄 性别\n",
       "0  斗破苍穹   萧炎       薰儿   24  男\n",
       "1   不良人  李星云      姬如雪   20  男\n",
       "2    仙逆   王林  走,带你去杀人  400  男"
      ]
     },
     "execution_count": 140,
     "metadata": {},
     "output_type": "execute_result"
    }
   ],
   "source": [
    "# 删除行\n",
    "df = df.drop(index=3,inplace=True)\n",
    "df"
   ]
  },
  {
   "cell_type": "code",
   "execution_count": 141,
   "metadata": {},
   "outputs": [
    {
     "data": {
      "text/html": [
       "<div>\n",
       "<style scoped>\n",
       "    .dataframe tbody tr th:only-of-type {\n",
       "        vertical-align: middle;\n",
       "    }\n",
       "\n",
       "    .dataframe tbody tr th {\n",
       "        vertical-align: top;\n",
       "    }\n",
       "\n",
       "    .dataframe thead th {\n",
       "        text-align: right;\n",
       "    }\n",
       "</style>\n",
       "<table border=\"1\" class=\"dataframe\">\n",
       "  <thead>\n",
       "    <tr style=\"text-align: right;\">\n",
       "      <th></th>\n",
       "      <th>动漫名称</th>\n",
       "      <th>男主角</th>\n",
       "      <th>女主角</th>\n",
       "      <th>年龄</th>\n",
       "      <th>性别</th>\n",
       "    </tr>\n",
       "  </thead>\n",
       "  <tbody>\n",
       "    <tr>\n",
       "      <th>0</th>\n",
       "      <td>斗破苍穹</td>\n",
       "      <td>萧炎</td>\n",
       "      <td>薰儿</td>\n",
       "      <td>24</td>\n",
       "      <td>男</td>\n",
       "    </tr>\n",
       "    <tr>\n",
       "      <th>1</th>\n",
       "      <td>不良人</td>\n",
       "      <td>李星云</td>\n",
       "      <td>姬如雪</td>\n",
       "      <td>20</td>\n",
       "      <td>男</td>\n",
       "    </tr>\n",
       "    <tr>\n",
       "      <th>2</th>\n",
       "      <td>仙逆</td>\n",
       "      <td>王林</td>\n",
       "      <td>林婉儿</td>\n",
       "      <td>400</td>\n",
       "      <td>男</td>\n",
       "    </tr>\n",
       "  </tbody>\n",
       "</table>\n",
       "</div>"
      ],
      "text/plain": [
       "   动漫名称  男主角  女主角   年龄 性别\n",
       "0  斗破苍穹   萧炎   薰儿   24  男\n",
       "1   不良人  李星云  姬如雪   20  男\n",
       "2    仙逆   王林  林婉儿  400  男"
      ]
     },
     "execution_count": 141,
     "metadata": {},
     "output_type": "execute_result"
    }
   ],
   "source": [
    "# 修改\n",
    "df.loc[2,\"女主角\"] = \"林婉儿\"\n",
    "df"
   ]
  },
  {
   "cell_type": "code",
   "execution_count": 142,
   "metadata": {},
   "outputs": [
    {
     "data": {
      "text/html": [
       "<div>\n",
       "<style scoped>\n",
       "    .dataframe tbody tr th:only-of-type {\n",
       "        vertical-align: middle;\n",
       "    }\n",
       "\n",
       "    .dataframe tbody tr th {\n",
       "        vertical-align: top;\n",
       "    }\n",
       "\n",
       "    .dataframe thead th {\n",
       "        text-align: right;\n",
       "    }\n",
       "</style>\n",
       "<table border=\"1\" class=\"dataframe\">\n",
       "  <thead>\n",
       "    <tr style=\"text-align: right;\">\n",
       "      <th></th>\n",
       "      <th>动漫名称</th>\n",
       "      <th>男主角</th>\n",
       "      <th>女主角</th>\n",
       "      <th>岁数</th>\n",
       "      <th>性别</th>\n",
       "    </tr>\n",
       "  </thead>\n",
       "  <tbody>\n",
       "    <tr>\n",
       "      <th>0</th>\n",
       "      <td>斗破苍穹</td>\n",
       "      <td>萧炎</td>\n",
       "      <td>薰儿</td>\n",
       "      <td>24</td>\n",
       "      <td>男</td>\n",
       "    </tr>\n",
       "    <tr>\n",
       "      <th>1</th>\n",
       "      <td>不良人</td>\n",
       "      <td>李星云</td>\n",
       "      <td>姬如雪</td>\n",
       "      <td>20</td>\n",
       "      <td>男</td>\n",
       "    </tr>\n",
       "    <tr>\n",
       "      <th>2</th>\n",
       "      <td>仙逆</td>\n",
       "      <td>王林</td>\n",
       "      <td>林婉儿</td>\n",
       "      <td>400</td>\n",
       "      <td>男</td>\n",
       "    </tr>\n",
       "  </tbody>\n",
       "</table>\n",
       "</div>"
      ],
      "text/plain": [
       "   动漫名称  男主角  女主角   岁数 性别\n",
       "0  斗破苍穹   萧炎   薰儿   24  男\n",
       "1   不良人  李星云  姬如雪   20  男\n",
       "2    仙逆   王林  林婉儿  400  男"
      ]
     },
     "execution_count": 142,
     "metadata": {},
     "output_type": "execute_result"
    }
   ],
   "source": [
    "# 修改列名\n",
    "# inplace=True 布尔值参数,默认为False表示删除后返回一个副本,不会在原本的数据上修改\n",
    "df.rename(columns={\"年龄\":\"岁数\"},inplace=True)\n",
    "df"
   ]
  },
  {
   "cell_type": "code",
   "execution_count": 147,
   "metadata": {},
   "outputs": [
    {
     "data": {
      "text/html": [
       "<div>\n",
       "<style scoped>\n",
       "    .dataframe tbody tr th:only-of-type {\n",
       "        vertical-align: middle;\n",
       "    }\n",
       "\n",
       "    .dataframe tbody tr th {\n",
       "        vertical-align: top;\n",
       "    }\n",
       "\n",
       "    .dataframe thead th {\n",
       "        text-align: right;\n",
       "    }\n",
       "</style>\n",
       "<table border=\"1\" class=\"dataframe\">\n",
       "  <thead>\n",
       "    <tr style=\"text-align: right;\">\n",
       "      <th></th>\n",
       "      <th>动漫名称</th>\n",
       "      <th>男主角</th>\n",
       "      <th>女主角</th>\n",
       "      <th>岁数</th>\n",
       "      <th>性别</th>\n",
       "    </tr>\n",
       "  </thead>\n",
       "  <tbody>\n",
       "    <tr>\n",
       "      <th>1</th>\n",
       "      <td>不良人</td>\n",
       "      <td>李星云</td>\n",
       "      <td>姬如雪</td>\n",
       "      <td>20</td>\n",
       "      <td>男</td>\n",
       "    </tr>\n",
       "    <tr>\n",
       "      <th>0</th>\n",
       "      <td>斗破苍穹</td>\n",
       "      <td>萧炎</td>\n",
       "      <td>薰儿</td>\n",
       "      <td>24</td>\n",
       "      <td>男</td>\n",
       "    </tr>\n",
       "    <tr>\n",
       "      <th>2</th>\n",
       "      <td>仙逆</td>\n",
       "      <td>王林</td>\n",
       "      <td>林婉儿</td>\n",
       "      <td>400</td>\n",
       "      <td>男</td>\n",
       "    </tr>\n",
       "  </tbody>\n",
       "</table>\n",
       "</div>"
      ],
      "text/plain": [
       "   动漫名称  男主角  女主角   岁数 性别\n",
       "1   不良人  李星云  姬如雪   20  男\n",
       "0  斗破苍穹   萧炎   薰儿   24  男\n",
       "2    仙逆   王林  林婉儿  400  男"
      ]
     },
     "execution_count": 147,
     "metadata": {},
     "output_type": "execute_result"
    }
   ],
   "source": [
    "# 排序\n",
    "df = df.sort_values(by=\"岁数\",ascending=True)\n",
    "df"
   ]
  },
  {
   "cell_type": "code",
   "execution_count": 148,
   "metadata": {},
   "outputs": [
    {
     "data": {
      "text/html": [
       "<div>\n",
       "<style scoped>\n",
       "    .dataframe tbody tr th:only-of-type {\n",
       "        vertical-align: middle;\n",
       "    }\n",
       "\n",
       "    .dataframe tbody tr th {\n",
       "        vertical-align: top;\n",
       "    }\n",
       "\n",
       "    .dataframe thead th {\n",
       "        text-align: right;\n",
       "    }\n",
       "</style>\n",
       "<table border=\"1\" class=\"dataframe\">\n",
       "  <thead>\n",
       "    <tr style=\"text-align: right;\">\n",
       "      <th></th>\n",
       "      <th>动漫名称</th>\n",
       "      <th>男主角</th>\n",
       "      <th>女主角</th>\n",
       "      <th>岁数</th>\n",
       "      <th>性别</th>\n",
       "    </tr>\n",
       "  </thead>\n",
       "  <tbody>\n",
       "    <tr>\n",
       "      <th>2</th>\n",
       "      <td>仙逆</td>\n",
       "      <td>王林</td>\n",
       "      <td>林婉儿</td>\n",
       "      <td>400</td>\n",
       "      <td>男</td>\n",
       "    </tr>\n",
       "    <tr>\n",
       "      <th>1</th>\n",
       "      <td>不良人</td>\n",
       "      <td>李星云</td>\n",
       "      <td>姬如雪</td>\n",
       "      <td>20</td>\n",
       "      <td>男</td>\n",
       "    </tr>\n",
       "    <tr>\n",
       "      <th>0</th>\n",
       "      <td>斗破苍穹</td>\n",
       "      <td>萧炎</td>\n",
       "      <td>薰儿</td>\n",
       "      <td>24</td>\n",
       "      <td>男</td>\n",
       "    </tr>\n",
       "  </tbody>\n",
       "</table>\n",
       "</div>"
      ],
      "text/plain": [
       "   动漫名称  男主角  女主角   岁数 性别\n",
       "2    仙逆   王林  林婉儿  400  男\n",
       "1   不良人  李星云  姬如雪   20  男\n",
       "0  斗破苍穹   萧炎   薰儿   24  男"
      ]
     },
     "execution_count": 148,
     "metadata": {},
     "output_type": "execute_result"
    }
   ],
   "source": [
    "df.sort_index(ascending=False)"
   ]
  },
  {
   "cell_type": "code",
   "execution_count": null,
   "metadata": {},
   "outputs": [],
   "source": []
  }
 ],
 "metadata": {
  "kernelspec": {
   "display_name": "transformers",
   "language": "python",
   "name": "python3"
  },
  "language_info": {
   "codemirror_mode": {
    "name": "ipython",
    "version": 3
   },
   "file_extension": ".py",
   "mimetype": "text/x-python",
   "name": "python",
   "nbconvert_exporter": "python",
   "pygments_lexer": "ipython3",
   "version": "3.12.4"
  }
 },
 "nbformat": 4,
 "nbformat_minor": 2
}
